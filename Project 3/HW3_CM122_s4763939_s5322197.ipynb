{
  "nbformat": 4,
  "nbformat_minor": 0,
  "metadata": {
    "colab": {
      "provenance": []
    },
    "kernelspec": {
      "name": "python3",
      "display_name": "Python 3"
    },
    "language_info": {
      "name": "python"
    }
  },
  "cells": [
    {
      "cell_type": "code",
      "source": [
        "# Exercise 1 part a)\n",
        "\n",
        "# function my_factorial is defined with input argument n.\n",
        "def my_factorial(n):\n",
        "    \"\"\"\n",
        "    This function calculates the factorial of an integer n.\n",
        "\n",
        "    Input argument:\n",
        "    n: (integer)    the integer to be evaluated\n",
        "\n",
        "    Returns:\n",
        "    factorial: (integer)    the factorial of the integer n\n",
        "    \"\"\"\n",
        "\n",
        "    # if the input number is negative, the user is asked to provide a positive integer.\n",
        "    if n < 0:\n",
        "        print(\"The inputted number is negative. Please provide an integer greater than or equal to zero.\")\n",
        "        return\n",
        "    # if n is 0, 1 is returned.\n",
        "    elif n == 0:\n",
        "        return 1\n",
        "    # Otherwise, a for loop calculates the factorial of n and returns it.\n",
        "    else:\n",
        "        # output variable 'factorial' is initially set to the value of n.\n",
        "        factorial = n\n",
        "        # a for loop goes from n to 1 (step value -1) and calculates factorial.\n",
        "        for i in range(n,1,-1):\n",
        "            factorial *= (i-1)\n",
        "        # 'factorial' value is returned.\n",
        "        return factorial\n",
        "\n",
        "# 'n' is set to the integer type of the user's input.\n",
        "n = int(input(\"Input an integer: \"))\n",
        "\n",
        "# the factorial of n is printed through an f-string by calling my_factorial(n).\n",
        "print(f\"The factorial of the number is {my_factorial(n)}.\")"
      ],
      "metadata": {
        "colab": {
          "base_uri": "https://localhost:8080/"
        },
        "id": "XqBEyCROpjym",
        "outputId": "ff6521c0-adaa-47b5-cf91-b2231e0c7599"
      },
      "execution_count": null,
      "outputs": [
        {
          "output_type": "stream",
          "name": "stdout",
          "text": [
            "Input an integer: 5\n",
            "The factorial of the number is 120.\n"
          ]
        }
      ]
    },
    {
      "cell_type": "code",
      "source": [
        "# Exercise 1 parts b), c) and d)\n",
        "\n",
        "# numpy package is imported for part c) of the exercise.\n",
        "import numpy\n",
        "\n",
        "# function taylor_expansion with input arguments k and x is defined.\n",
        "def taylor_expansion(k,x):\n",
        "    \"\"\"\n",
        "    This function calculates the Taylor expansion for a sine function.\n",
        "\n",
        "    Input argument:\n",
        "    k: (integer)    the number of terms in the expansion.\n",
        "    x: (float)      the angle evaluated in radians.\n",
        "\n",
        "    Returns:\n",
        "    taylor: (float)    the taylor expansion of sin(x) with 'k' amount of terms.\n",
        "    \"\"\"\n",
        "\n",
        "    # 'pi' is set to pi's value accurate to 12 significant figures.\n",
        "    pi = 3.14159265359\n",
        "\n",
        "    # if the number of terms is zero or negative, user is asked to provide a positive integer for k.\n",
        "    if k <= 0:\n",
        "        print(\"The inputted number of terms is negative or zero. Please provide an integer greater than or equal to one.\")\n",
        "        return\n",
        "\n",
        "    # if the angle is negative, 2π is added to x until it is positive.\n",
        "    elif x < 0:\n",
        "        while x < 0:\n",
        "            x += 2*pi\n",
        "\n",
        "    # if the angle is greater than 2π, 2π is subtracted from it until it is less than 2π.\n",
        "    elif x > 2*pi:\n",
        "        while x > 2*pi:\n",
        "            x -= 2*pi\n",
        "\n",
        "    # once k and x have the right value, taylor is initially set to zero.\n",
        "    taylor = 0\n",
        "\n",
        "    # a for loop goes from 1 to k (number of terms) and adds the expansion of k terms to the taylor expansion ('taylor').\n",
        "    for i in range(1,k+1):\n",
        "        taylor += ((-1)**(i+1))*(x**((2*i)-1))/my_factorial((2*i)-1)\n",
        "    # the value of the taylor expansion ('taylor') is returned\n",
        "    return taylor\n",
        "\n",
        "# k (number of terms) is set to the integer type of the user's input.\n",
        "k = int(input(\"Input the number of terms in the Taylor expansion: \"))\n",
        "\n",
        "# 'new_line' is set to the string '\\n' to make new lines in f-string.\n",
        "new_line = '\\n'\n",
        "\n",
        "# an f-string prints the value of sin(π/2) by calling the taylor_expansion function.\n",
        "print(f\"{new_line}sin(π/2) = {taylor_expansion(k,numpy.pi/2):5f}  # taylor_expansion()\")\n",
        "\n",
        "# the average amount of time taken for the taylor_expansion function to run is printed.\n",
        "%timeit taylor_expansion(k,numpy.pi/2)\n",
        "\n",
        "# an f-string prints the value of sin(π/2) using numpy.sin() function.\n",
        "print(f\"{new_line}sin(π/2) = {numpy.sin(numpy.pi/2):5f}  # numpy.sin()\")\n",
        "\n",
        "# the average amount of time taken for the numpy.sin() function to run is printed.\n",
        "%timeit numpy.sin(numpy.pi/2)\n"
      ],
      "metadata": {
        "colab": {
          "base_uri": "https://localhost:8080/"
        },
        "id": "R9UKxLyHzpNl",
        "outputId": "a079469e-d015-43d9-f795-b47d27fde56f"
      },
      "execution_count": null,
      "outputs": [
        {
          "output_type": "stream",
          "name": "stdout",
          "text": [
            "Input the number of terms in the Taylor expansion: 10\n",
            "\n",
            "sin(π/2) = 1.000000  # taylor_expansion()\n",
            "20.4 µs ± 4.29 µs per loop (mean ± std. dev. of 7 runs, 100000 loops each)\n",
            "\n",
            "sin(π/2) = 1.000000  # numpy.sin()\n",
            "1.14 µs ± 369 ns per loop (mean ± std. dev. of 7 runs, 1000000 loops each)\n"
          ]
        }
      ]
    },
    {
      "cell_type": "code",
      "source": [
        "# Exercise 2\n",
        "\n",
        "# function matrix_product is defined with input arguments a and b.\n",
        "def matrix_product(a,b):\n",
        "    \"\"\"\n",
        "    This function calculates the product of two matrices.\n",
        "\n",
        "    Input argument:\n",
        "    a: (list)    the first matrix in the multiplication.\n",
        "    b: (list)    the second matrix in the multiplication.\n",
        "\n",
        "    Returns:\n",
        "    product: (list)    matrix equal to the product of matrices a and b.\n",
        "    \"\"\"\n",
        "    # the if statement checks whether a and b have the same dimensions. if not, an error is returned.\n",
        "    if len(a[0]) != len(b):\n",
        "        print(\"the two matrices have different dimensions and cannot be multiplied.\")\n",
        "        return 0\n",
        "\n",
        "    # 'product' is set to list with same amount of rows as a and same amount of columns as b, with items as zeros using list comprehension.\n",
        "    product = [[0] * len(b[0]) for i in a]\n",
        "\n",
        "    # the outer for loop iterates over the rows in the product matrix.\n",
        "    for i in range(0,len(product)):\n",
        "        # the first nested for loop iterates over the columns of the product matrix.\n",
        "        for j in range(0,len(product[0])):\n",
        "            # the second nested for loop iterates the same amount of times as the number of colums in a to calculate dot product.\n",
        "            for k in range(len(a[0])):\n",
        "                # each element in product matrix is set to the dot product between the corresponding row of a and column of b.\n",
        "                product[i][j] += a[i][k] * b[k][j]\n",
        "\n",
        "    # the final product matrix is returned.\n",
        "    return product\n",
        "\n",
        "# matrices a, b, c, d, e and f will be used to check whether the program works.\n",
        "\n",
        "a = [[7,10],\n",
        "     [9,9],\n",
        "     [3,1]] # 3 x 2\n",
        "\n",
        "b = [[1,2,3,3,5],\n",
        "     [2,2,7,6,5]] # 2 x 5\n",
        "\n",
        "c = [[1,1,2],\n",
        "     [2,4,2],\n",
        "     [1,5,1]] # 3 x 3\n",
        "\n",
        "d = [[2,1,4],\n",
        "     [3,3,1],\n",
        "     [4,5,6]] # 3 x 3\n",
        "\n",
        "e = [[9,3,4,5],\n",
        "     [2,2,5,4],\n",
        "     [2,7,6,5]] # 3 x 4\n",
        "\n",
        "f = [[2,7],\n",
        "     [9,2],\n",
        "     [3,3],\n",
        "     [4,2]] # 4 x 2\n",
        "\n",
        "# 'new_line' is set to the string '\\n' to make new lines in f-string.\n",
        "new_line = '\\n'\n",
        "\n",
        "# an f-string is used to print the multiplication of different combinations of the matrices, all of which have the same dimensions.\n",
        "print(\n",
        "    f\"Test:{new_line}{a} ⋅ {b} = {matrix_product(a,b)}{new_line}\"\n",
        "    f\"{c} ⋅ {d} = {matrix_product(c,d)}{new_line}\"\n",
        "    f\"{e} ⋅ {f} = {matrix_product(e,f)}{new_line}\"\n",
        "    f\"{c} ⋅ {e} = {matrix_product(c,e)}{new_line}\"\n",
        "    f\"{d} ⋅ {a} = {matrix_product(d,a)}{new_line}\"\n",
        "    f\"{f} ⋅ {b} = {matrix_product(f,b)}{new_line}\"\n",
        "    )\n"
      ],
      "metadata": {
        "colab": {
          "base_uri": "https://localhost:8080/"
        },
        "id": "euRzqnSHbtqz",
        "outputId": "48ae45cb-62e8-46ef-d9e1-46495fd113e4"
      },
      "execution_count": null,
      "outputs": [
        {
          "output_type": "stream",
          "name": "stdout",
          "text": [
            "Test:\n",
            "[[7, 10], [9, 9], [3, 1]] ⋅ [[1, 2, 3, 3, 5], [2, 2, 7, 6, 5]] = [[27, 34, 91, 81, 85], [27, 36, 90, 81, 90], [5, 8, 16, 15, 20]]\n",
            "[[1, 1, 2], [2, 4, 2], [1, 5, 1]] ⋅ [[2, 1, 4], [3, 3, 1], [4, 5, 6]] = [[13, 14, 17], [24, 24, 24], [21, 21, 15]]\n",
            "[[9, 3, 4, 5], [2, 2, 5, 4], [2, 7, 6, 5]] ⋅ [[2, 7], [9, 2], [3, 3], [4, 2]] = [[77, 91], [53, 41], [105, 56]]\n",
            "[[1, 1, 2], [2, 4, 2], [1, 5, 1]] ⋅ [[9, 3, 4, 5], [2, 2, 5, 4], [2, 7, 6, 5]] = [[15, 19, 21, 19], [30, 28, 40, 36], [21, 20, 35, 30]]\n",
            "[[2, 1, 4], [3, 3, 1], [4, 5, 6]] ⋅ [[7, 10], [9, 9], [3, 1]] = [[35, 33], [51, 58], [91, 91]]\n",
            "[[2, 7], [9, 2], [3, 3], [4, 2]] ⋅ [[1, 2, 3, 3, 5], [2, 2, 7, 6, 5]] = [[16, 18, 55, 48, 45], [13, 22, 41, 39, 55], [9, 12, 30, 27, 30], [8, 12, 26, 24, 30]]\n",
            "\n"
          ]
        }
      ]
    },
    {
      "cell_type": "code",
      "source": [
        "# Bonus challenge v2\n",
        "\n",
        "# the matrix_product function remains the same, calculating and returning the product of two matrices a and b.\n",
        "def matrix_product(a,b):\n",
        "    \"\"\"\n",
        "    This function calculates the product of two matrices.\n",
        "\n",
        "    Input argument:\n",
        "    a: (list)    the first matrix in the multiplication.\n",
        "    b: (list)    the second matrix in the multiplication.\n",
        "\n",
        "    Returns:\n",
        "    product: (list)    matrix equal to the product of matrices a and b.\n",
        "    \"\"\"\n",
        "    # the if statement checks whether a and b have the same dimensions. if not, an error is returned.\n",
        "    if len(a[0]) != len(b):\n",
        "        print(\"the two matrices have different dimensions and cannot be multiplied.\")\n",
        "        return 0\n",
        "\n",
        "    # 'product' is set to list with same amount of rows as a and same amount of columns as b, with items as zeros using list comprehension.\n",
        "    product = [[0] * len(b[0]) for i in a]\n",
        "\n",
        "    # the outer for loop iterates over the rows in the product matrix.\n",
        "    for i in range(0,len(product)):\n",
        "        # the first nested for loop iterates over the columns of the product matrix.\n",
        "        for j in range(0,len(product[0])):\n",
        "            # the second nested for loop iterates the same amount of times as the number of colums in a to calculate dot product.\n",
        "            for k in range(len(a[0])):\n",
        "                # each element in product matrix is set to the dot product between the corresponding row of a and column of b.\n",
        "                product[i][j] += a[i][k] * b[k][j]\n",
        "\n",
        "    # the final product matrix is returned.\n",
        "    return product\n",
        "\n",
        "# a second function product_sequence is created, which takes a compilation of matrices stored in a list 'c' and calculates their product by calling the matrix_product function.\n",
        "def product_sequence(c):\n",
        "    \"\"\"\n",
        "    This function calculates the product of multiple matrices sequencially.\n",
        "\n",
        "    Input argument:\n",
        "    c: (list)    a list containing all matrices to be multiplied as items.\n",
        "\n",
        "    Returns:\n",
        "    product: (list)    matrix equal to the product of all matrices in c.\n",
        "    \"\"\"\n",
        "\n",
        "    # variable 'product' is initially set to the first matrix in the list 'c'.\n",
        "    product = c[0]\n",
        "\n",
        "    # a for loop iterates from 1 to the number of matrices in 'c' minus 1.\n",
        "    for p in range(1,len(c)):\n",
        "        # after every iteration, the product is set to equal the 'product' matrix multiplied by the next matrix (as p increases) by using recursion with the matrix_product function.\n",
        "        product = matrix_product(product,c[p])\n",
        "\n",
        "    # the final product of all matrices is returned.\n",
        "    return product\n",
        "\n",
        "# to test the program, 'c' has been set to contain three matrices, all of which are compatible for multiplication.\n",
        "c = [[[7,10],\n",
        "     [9,9],\n",
        "     [3,1]], # 3 x 2\n",
        "     [[1,2,3,3,5],\n",
        "     [2,2,7,6,5]], # 2 x 5\n",
        "     [[1,1,2],\n",
        "     [2,4,2],\n",
        "     [1,5,1],\n",
        "     [5,3,3],\n",
        "     [2,1,2]]] # 5 x 3\n",
        "\n",
        "# the matrix product of all matrices in 'c' is printed. A manual check of the answer confirms it is correct.\n",
        "print(product_sequence(c))"
      ],
      "metadata": {
        "colab": {
          "base_uri": "https://localhost:8080/"
        },
        "id": "6sid7Prn4-pP",
        "outputId": "f1d971c2-21c7-4045-81ad-69334d1a2fc6"
      },
      "execution_count": null,
      "outputs": [
        {
          "output_type": "stream",
          "name": "stdout",
          "text": [
            "[[761, 946, 626], [774, 954, 639], [152, 182, 127]]\n"
          ]
        }
      ]
    },
    {
      "cell_type": "code",
      "source": [
        "# Exercise 3 part a)\n",
        "\n",
        "# function fibonacci is defined with input arguement n.\n",
        "def fibonacci(n):\n",
        "    \"\"\"\n",
        "    This function calculates the nth term of the Fibonacci sequence.\n",
        "\n",
        "    Input argument:\n",
        "    n: (integer)    the nth term of the sequence.\n",
        "\n",
        "    Returns:\n",
        "    nth_term: (integer)    the value of the nth term in the sequence.\n",
        "    \"\"\"\n",
        "\n",
        "    # if 'n' is 1 or 2, 1 is returned.\n",
        "    if n == 1 or n == 2:\n",
        "        return 1\n",
        "\n",
        "    # otherwise, the value of the nth term is returned using recursion.\n",
        "    else:\n",
        "        return (fibonacci(n-1) + fibonacci(n-2))\n",
        "\n",
        "# 'n' is set to the integer type of the user's input.\n",
        "n = int(input(\"n = \"))\n",
        "\n",
        "# 'g' is set to an approximation of the golden ratio through equation 2.\n",
        "# accuracy of 'g' is dependent upon the value of 'n' inputted by the user.\n",
        "g = (fibonacci(n+1)/fibonacci(n))\n",
        "\n",
        "# an f-string prints the value of g.\n",
        "print(f\"φ = {g}\")\n",
        "\n",
        "# an f-string prints the error by calculating the difference between g and the golden ratio.\n",
        "print(f\"error = {abs(((1+(5**(0.5)))/2)-g)}\")\n"
      ],
      "metadata": {
        "id": "f-4BXIE_xXEf",
        "colab": {
          "base_uri": "https://localhost:8080/"
        },
        "outputId": "b233efd9-3b2b-4d9e-a9c2-819817b05e94"
      },
      "execution_count": null,
      "outputs": [
        {
          "output_type": "stream",
          "name": "stdout",
          "text": [
            "n = 20\n",
            "φ = 1.6180339985218033\n",
            "error = 9.771908393574336e-09\n"
          ]
        }
      ]
    },
    {
      "cell_type": "code",
      "source": [
        "# Exercise 3 part b)\n",
        "\n",
        "# function golden_ratio\n",
        "def goldenRatio(n):\n",
        "    \"\"\"\n",
        "    This function approximates the value of the golden ratio.\n",
        "\n",
        "    Input argument:\n",
        "    n: (integer)    the number of terms in the continued fraction.\n",
        "\n",
        "    Returns:\n",
        "    golden_ratio: (integer)    the calculated value of the golden ratio.\n",
        "    \"\"\"\n",
        "\n",
        "    # if n is zero, 1 is returned.\n",
        "    if n == 0:\n",
        "        return 1\n",
        "\n",
        "    # otherwise, recursion is used for the continued fraction to return the golden ratio.\n",
        "    else:\n",
        "        return (1 + (1/goldenRatio(n-1)))\n",
        "\n",
        "# the value of the function goldenRatio() for n = 10 is stored in 'x'.\n",
        "x = goldenRatio(10)\n",
        "\n",
        "# 'new_line' is set to the string '\\n' to make new lines in f-string.\n",
        "new_line = '\\n'\n",
        "\n",
        "# the value stored in x is printed using an f-string.\n",
        "print(f\"For n = 10:{new_line}φ = {x}\")\n",
        "\n",
        "# the error of the value of x is printed by taking x's difference with the golden ratio.\n",
        "print(f\"error = {abs(((1+(5**(0.5)))/2)-x)}\")\n"
      ],
      "metadata": {
        "colab": {
          "base_uri": "https://localhost:8080/"
        },
        "id": "qbfZ59gkjXbZ",
        "outputId": "7e871bb9-230c-497b-8fe7-d0727bcca0bd"
      },
      "execution_count": null,
      "outputs": [
        {
          "output_type": "stream",
          "name": "stdout",
          "text": [
            "For n = 10:\n",
            "φ = 1.6179775280898876\n",
            "error = 5.6460660007306984e-05\n"
          ]
        }
      ]
    },
    {
      "cell_type": "code",
      "source": [
        "# Exercise 3 part c)\n",
        "\n",
        "# 'n' is initially set to 1 outside the while loop.\n",
        "n = 1\n",
        "\n",
        "# a while loop with condition True is created.\n",
        "while True:\n",
        "    # if the corresponding 'n' gives the same value of x when used in equation 2, the loop is broken out of.\n",
        "    if fibonacci(n+1)/fibonacci(n) == x:\n",
        "        break\n",
        "    # otherwise, 1 is added to n.\n",
        "    else:\n",
        "        n += 1\n",
        "\n",
        "# the value of n is printed using an f-string.\n",
        "print(f\"n = {n}\")"
      ],
      "metadata": {
        "colab": {
          "base_uri": "https://localhost:8080/"
        },
        "id": "UIA1MEavoeL8",
        "outputId": "b67ea0c9-e2eb-4a03-a1ff-e4c2f158d508"
      },
      "execution_count": null,
      "outputs": [
        {
          "output_type": "stream",
          "name": "stdout",
          "text": [
            "n = 11\n"
          ]
        }
      ]
    },
    {
      "cell_type": "markdown",
      "source": [
        "In part c) of Exercise 3, we have to find the value of n for which equation 2 would yield the same value as equation 3 when n = 10. Initially, n was set to 1 outside the while loop that will follow (n was not set to 0 since fibonacci(0) gives an error). Next, a while loop with condition True was created. In the while loop, an if statement would break out of the loop if the condition fibonacci(n+1)/fibonacci(n) == x is satisfied (equation 2) and the value of n for which the condition is true would be printed thereafter. If the condition is not satisfied with the current value of n, 1 is added to n and the loop is reiterated until the if statement is set off."
      ],
      "metadata": {
        "id": "7IjqPHVhqWiS"
      }
    }
  ]
}
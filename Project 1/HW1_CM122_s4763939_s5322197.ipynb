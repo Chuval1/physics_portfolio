{
  "nbformat": 4,
  "nbformat_minor": 0,
  "metadata": {
    "colab": {
      "provenance": []
    },
    "kernelspec": {
      "name": "python3",
      "display_name": "Python 3"
    },
    "language_info": {
      "name": "python"
    }
  },
  "cells": [
    {
      "cell_type": "code",
      "source": [
        "# Exercise 1 final version\n",
        "\n",
        "# the variable pi is set to 3.14.\n",
        "pi=3.14\n",
        "\n",
        "# x is set to equal the user's initial input.\n",
        "x=str(input())\n",
        "\n",
        "# X is defined as a string of a single space to account for any spaces inputted.\n",
        "X=''\n",
        "\n",
        "# A loop is created to remove spaces from the input and set it equal to X.\n",
        "for i in x:\n",
        "    if i!=' ':\n",
        "        X=X+i\n",
        "\n",
        "# num_len is initially set to zero for a loop that counts the amount of digits inputted.\n",
        "num_len=0\n",
        "\n",
        "# A loop is created to set num_len to the number of inputted digits.\n",
        "for i in X:\n",
        "    if i in '0123456789.':\n",
        "        num_len=num_len+1\n",
        "    else:\n",
        "        break\n",
        "\n",
        "# If no digits were inputted, the correct format is asked until it is provided.\n",
        "if num_len==0:\n",
        "    x=str(input('Wrong format. Correct format: [number] [units]. Try again: '))\n",
        "    X=''\n",
        "    for i in x:\n",
        "        if i!=' ':\n",
        "            X=X+i\n",
        "\n",
        "    num_len=0\n",
        "    for i in X:\n",
        "        if i in '0123456789.':\n",
        "            num_len=num_len+1\n",
        "        else:\n",
        "            break\n",
        "\n",
        "# n is defined as the float type of the integers of the input by slicing the input up to num_len.\n",
        "n=float(X[0:num_len])                                                           # n - number\n",
        "\n",
        "# u is defined as the string preceding the provided number (units).\n",
        "u=str(X[num_len:])                                                              # u - unit\n",
        "\n",
        "# The radius is calculated if the input contains volumetric units.\n",
        "if u=='cm**3' or u=='m**3':\n",
        "    V=n                                                                         # V - volume\n",
        "    r=(3*V/(4*pi))**(1/3)\n",
        "\n",
        "# The radius is calculated if the input contains area units.\n",
        "elif u=='cm**2' or u=='m**2':\n",
        "    A=n                                                                         # A - area\n",
        "    r=(A/(4*pi))**(1/2)\n",
        "\n",
        "# If unrecognized units are provided, the program asks for correct units.\n",
        "else:\n",
        "    u=str(input('Input correct units: '))\n",
        "    if u=='cm**3' or u=='m**3':\n",
        "        V=n\n",
        "        r=(3*V/(4*pi))**(1/3)\n",
        "    elif u=='cm**2' or u=='m**2':\n",
        "        A=n\n",
        "        r=(A/(4*pi))**(1/2)\n",
        "    else:\n",
        "        u=str(input('Do not worry, it will be fine, just try one more time. Make sure you input cm**2 or cm**3 or m**2 or m**3: '))\n",
        "        if u=='cm**3' or u=='m**3':\n",
        "            V=n\n",
        "            r=(3*V/(4*pi))**(1/3)\n",
        "        elif u=='cm**2' or u=='m**2':\n",
        "            A=n\n",
        "            r=(A/(4*pi))**(1/2)\n",
        "        else:\n",
        "            print('You look tired. Maybe it is time to turn off your computer and have some personal time. Have you tried meditating? It really helps!')\n",
        "            u='m'\n",
        "            r='-'\n",
        "\n",
        "# If input was provided in cm, radius is converted to meters and printed.\n",
        "if 'cm' in u:\n",
        "    print('Sphere radius =',r/100,'m')\n",
        "\n",
        "# If input was provided in m, radius remains the same and printed.\n",
        "else:\n",
        "    print('Sphere radius =',r,'m')"
      ],
      "metadata": {
        "id": "rkg_buMMBVfu",
        "colab": {
          "base_uri": "https://localhost:8080/"
        },
        "outputId": "1a9a8bb9-8d00-493c-f899-021d1d5a59a6"
      },
      "execution_count": null,
      "outputs": [
        {
          "output_type": "stream",
          "name": "stdout",
          "text": [
            "3   6  c   m * *   2\n",
            "Sphere radius = 0.01692997943949301 m\n"
          ]
        }
      ]
    },
    {
      "cell_type": "code",
      "source": [
        "# Exercise 2, list vs. string\n",
        "\n",
        "# variables l and s are created and will be manipulated to show the difference between lists and strings.\n",
        "l = [\"bread\",\"milk\",\"eggs\",\"flour\",\"cheese\",\"peanut butter\"]\n",
        "s = \"bread, milk, eggs, flour, cheese, peanut butter\"\n",
        "\n",
        "# variable new_line will be used to create new lines in the f string when called upon.\n",
        "new_line = '\\n'\n",
        "\n",
        "# An f string is used to display a large amount of text with computations and manipulations of variables.\n",
        "print(\n",
        "    f\"List: {l}. {new_line}String: {s}. {new_line*2}\"\n",
        "    f\"In the list, the first element (l[0]) is {l[0]}. Meanwhile, in the string, the first element (s[0]) is {s[0]}.{new_line}\"\n",
        "    f\"If we set l[5] = \\\"cookies\\\", the last element is changed to cookies:{new_line}\"\n",
        "    )\n",
        "l[5] = \"cookies\"\n",
        "print(\n",
        "    f\"{l}{new_line*2}On the other hand, if we set s[5] = \\\"c\\\" we will get an error, since strings are immutable.{new_line*2}\"\n",
        "    f\"If we multiple the list and string by two (i.e. l*2 and s*2), we get the following outputs:{new_line}l*2: {l*2}{new_line}s*2: {s*2}{new_line}\"\n",
        "    f\"Lists and string are quite similar in this sense.\"\n",
        "    )\n"
      ],
      "metadata": {
        "colab": {
          "base_uri": "https://localhost:8080/"
        },
        "id": "lcrj9O9-FEKs",
        "outputId": "4f5aad5c-a907-4546-cc49-39b3ab4d9876"
      },
      "execution_count": null,
      "outputs": [
        {
          "output_type": "stream",
          "name": "stdout",
          "text": [
            "List: ['bread', 'milk', 'eggs', 'flour', 'cheese', 'peanut butter']. \n",
            "String: bread, milk, eggs, flour, cheese, peanut butter. \n",
            "\n",
            "In the list, the first element (l[0]) is bread. Meanwhile, in the string, the first element (s[0]) is b.\n",
            "If we set l[5] = \"cookies\", the last element is changed to cookies:\n",
            "\n",
            "['bread', 'milk', 'eggs', 'flour', 'cheese', 'cookies']\n",
            "\n",
            "On the other hand, if we set s[5] = \"c\" we will get an error, since strings are immutable.\n",
            "\n",
            "If we multiple the list and string by two (i.e. l*2 and s*2), we get the following outputs:\n",
            "l*2: ['bread', 'milk', 'eggs', 'flour', 'cheese', 'cookies', 'bread', 'milk', 'eggs', 'flour', 'cheese', 'cookies']\n",
            "s*2: bread, milk, eggs, flour, cheese, peanut butterbread, milk, eggs, flour, cheese, peanut butter\n",
            "Lists and string are quite similar in this sense.\n"
          ]
        }
      ]
    },
    {
      "cell_type": "markdown",
      "source": [
        "Explanation: A list can store items of any type (such as stings in this case), while a string is limited to a compilation of characters where each element is only a single letter. Lists are mutable, meaning their elements can be changed, while a string is immutable and cannot be changed."
      ],
      "metadata": {
        "id": "MyfpJkLXnDb_"
      }
    },
    {
      "cell_type": "code",
      "source": [
        "# Exercise 2, float vs. int\n",
        "\n",
        "# variables f and i are created and will be manipulated to show the difference between floats and integers.\n",
        "f = 9.5\n",
        "i = 9\n",
        "\n",
        "\n",
        "# variable new_line will be used to create new lines in the f string when called upon.\n",
        "new_line = '\\n'\n",
        "\n",
        "# An f string is used to display a large amount of text with computations and manipulations of variables.\n",
        "print(\n",
        "    f\"Float: {f}{new_line}Integer: {i}{new_line*2}\"\n",
        "    f\"If we multiply the float by 2 (f*2), we get {f*2} (Note that the variable remains a float value). On the other hand, if we divide{new_line}\"\n",
        "    f\"the integer by 2 (i/2), we get {i/2} (Note that the integer is converted to a float value).{new_line}\"\n",
        "    f\"If we add the float and integer (f+i), we get {f+i} (Note that the output is a float).{new_line*2}\"\n",
        "    )\n"
      ],
      "metadata": {
        "colab": {
          "base_uri": "https://localhost:8080/"
        },
        "id": "JDJZrc5CsKfJ",
        "outputId": "01c0107c-3946-4878-9e57-166cb7dc038e"
      },
      "execution_count": null,
      "outputs": [
        {
          "output_type": "stream",
          "name": "stdout",
          "text": [
            "Float: 9.5\n",
            "Integer: 9\n",
            "\n",
            "If we multiply the float by 2 (f*2), we get 19.0 (Note that the variable remains a float value). On the other hand, if we divide\n",
            "the integer by 2 (i/2), we get 4.5 (Note that the integer is converted to a float value).\n",
            "If we add the float and integer (f+i), we get 18.5 (Note that the output is a float).\n",
            "\n",
            "\n"
          ]
        }
      ]
    },
    {
      "cell_type": "markdown",
      "source": [
        "Explanation: The integer variable can easily be converted to a float performing an operation that results in a non-integer answer (such as division by another number). On the other hand, a float number will remain a float type even if it is equivalent to an integer and can only be converted to an integer through the int() operation."
      ],
      "metadata": {
        "id": "kVigTDyvmaWf"
      }
    },
    {
      "cell_type": "code",
      "source": [
        "# Exercise 2\n",
        "\n",
        "# Program that checks if an inputted number is prime or not.\n",
        "\n",
        "# a is defined as the integer type of the user's input.\n",
        "a = int(input(\"Input an integer:\"))\n",
        "\n",
        "# l is deined as a list containing integers from 2 to (a/2)-1 rounded upwards.\n",
        "# Dividing by the factor of 2 optimizes the process for large numbers\n",
        "l = [*range(2,round(a/2),1)]\n",
        "\n",
        "# x is a boolean set to equal True.\n",
        "x = True\n",
        "\n",
        "# A loop is created which checks if a is divisible by any number in l.\n",
        "for i in l:\n",
        "    if a % i == 0 :\n",
        "        x = False\n",
        "        break\n",
        "\n",
        "# If x remains true and was not set to false by the loop, a must be prime.\n",
        "if x == True:\n",
        "    print(\"The number is prime\")\n",
        "# Otherwise a is not prime.\n",
        "else:\n",
        "    print(\"The number is not prime\")"
      ],
      "metadata": {
        "colab": {
          "base_uri": "https://localhost:8080/"
        },
        "id": "nfyExVyngygj",
        "outputId": "ac0496eb-03ec-418f-d3f9-bf8b7b781a5e"
      },
      "execution_count": null,
      "outputs": [
        {
          "output_type": "stream",
          "name": "stdout",
          "text": [
            "Input an integer:23\n",
            "The number is prime\n"
          ]
        }
      ]
    },
    {
      "cell_type": "markdown",
      "source": [
        "Explanation: The list is the set of numbers between 2 and a/2 using the range() function, since 'a' is prime if it is only divisible by 1 and itself. x is a boolean initially set to True, and if the loop cannot divide a by any number on the list, x remains true and the number is prime. Otherwise, if x is set to False, the number is not prime."
      ],
      "metadata": {
        "id": "_eARQ6lGCGgp"
      }
    },
    {
      "cell_type": "code",
      "source": [
        "# Exercise 3\n",
        "\n",
        "# The coefficients are inputted and set to equal a, b and c as integer type.\n",
        "a=int(input('a = '))\n",
        "b=int(input('b = '))\n",
        "c=int(input('c = '))\n",
        "\n",
        "# if a = 0, the equation is linear and the solution is printed.\n",
        "if a==0:\n",
        "    x=-c/b\n",
        "    print(f'There is one solution: x = {x}')\n",
        "\n",
        "# D is set to equal the determinant\n",
        "D = b**2-4*a*c\n",
        "\n",
        "# The amount of solutions is determined by the sign of D.\n",
        "\n",
        "# If D is positive, two solutions are calculated.\n",
        "if D>0:\n",
        "    x1=(-b-D**(1/2))/(2*a)\n",
        "    x2=(-b+D**(1/2))/(2*a)\n",
        "    print(f'There are two solutions: x_1 = {x1}, x_2 = {x2}')\n",
        "\n",
        "# If D = 0, one solution is calculated.\n",
        "elif D==0:\n",
        "    x=-b/(2*a)\n",
        "    print(f'There is one solution: x = {x}')\n",
        "\n",
        "# If D is negative (the only remaining possibility), there are no real solutions.\n",
        "else:\n",
        "    print('There are no real solutions.')"
      ],
      "metadata": {
        "id": "U38QwDJhL9bb",
        "colab": {
          "base_uri": "https://localhost:8080/"
        },
        "outputId": "c6fce50a-c8eb-4a0f-d473-19ed8129db3a"
      },
      "execution_count": null,
      "outputs": [
        {
          "output_type": "stream",
          "name": "stdout",
          "text": [
            "a = 1\n",
            "b = 2\n",
            "c = 1\n",
            "There is one solution: x = -1.0\n"
          ]
        }
      ]
    }
  ]
}